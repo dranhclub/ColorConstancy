{
 "cells": [
  {
   "cell_type": "code",
   "execution_count": 5,
   "metadata": {},
   "outputs": [],
   "source": [
    "import numpy as np\n",
    "from skimage.color import rgb2lab, lab2rgb\n",
    "import matplotlib.pyplot as plt\n",
    "from ipywidgets import interactive\n",
    "import matplotlib.pyplot as plt\n",
    "import numpy as np\n",
    "import ipywidgets as widgets"
   ]
  },
  {
   "cell_type": "code",
   "execution_count": 88,
   "metadata": {},
   "outputs": [],
   "source": [
    "from skimage.io import imread\n",
    "img = imread('images/NikonD5200_Indoor_Scene_18_6500_G_AS.png') / 255\n",
    "img = imread('images/NikonD5200_Indoor_Scene_18_6500_T_V.jpg') / 255"
   ]
  },
  {
   "cell_type": "code",
   "execution_count": 91,
   "metadata": {},
   "outputs": [
    {
     "data": {
      "application/vnd.jupyter.widget-view+json": {
       "model_id": "9e818d80869746d499a0a938a5f65b41",
       "version_major": 2,
       "version_minor": 0
      },
      "text/plain": [
       "interactive(children=(FloatSlider(value=0.0, description='r', max=1.0, step=0.01), FloatSlider(value=0.0, desc…"
      ]
     },
     "metadata": {},
     "output_type": "display_data"
    }
   ],
   "source": [
    "def f(r, g, b):\n",
    "    plt.figure(2, figsize=(10, 10))\n",
    "    temp = img.copy()\n",
    "    temp[:,:,:] /= [r, g, b]\n",
    "    plt.imshow(temp)\n",
    "    plt.axis(\"off\")\n",
    "    plt.show()\n",
    "\n",
    "interactive_plot = interactive(f, r=(0, 1, 0.01), g=(0, 1, 0.01), b=(0, 1, 0.01))\n",
    "output = interactive_plot.children[-1]\n",
    "output.layout.height = '350px'\n",
    "interactive_plot"
   ]
  },
  {
   "cell_type": "code",
   "execution_count": 68,
   "metadata": {},
   "outputs": [
    {
     "data": {
      "text/plain": [
       "array([[[73.95575716, -1.25707891,  6.99289961],\n",
       "        [73.69257186, -0.72249037,  6.61511995],\n",
       "        [74.40318339, -0.89319403,  7.11117704],\n",
       "        ...,\n",
       "        [58.60057935,  0.95492356,  5.73548988],\n",
       "        [57.08201422,  1.14118538,  5.22863476],\n",
       "        [56.66919794,  0.96598775,  5.77444686]],\n",
       "\n",
       "       [[73.95575716, -1.25707891,  6.99289961],\n",
       "        [73.3004071 , -0.8939162 ,  7.13333665],\n",
       "        [73.58807333, -1.2577569 ,  7.00014733],\n",
       "        ...,\n",
       "        [57.33131847,  0.39959747,  6.16047095],\n",
       "        [59.28372959,  0.56889091,  5.58573269],\n",
       "        [57.71774927,  0.39809534,  6.15217058]],\n",
       "\n",
       "       [[74.32306659, -1.25640145,  6.98569669],\n",
       "        [73.56400533, -1.42879348,  7.51114013],\n",
       "        [73.19593275, -1.42956665,  7.5189713 ],\n",
       "        ...,\n",
       "        [57.03119361,  0.7875774 ,  6.30468276],\n",
       "        [58.96014389,  0.77713543,  6.26245136],\n",
       "        [56.94438015,  0.40111909,  6.16883889]],\n",
       "\n",
       "       ...,\n",
       "\n",
       "       [[70.22478837, -1.11451868,  4.23854173],\n",
       "        [70.22478837, -1.11451868,  4.23854173],\n",
       "        [69.85312063, -1.11549419,  4.24314237],\n",
       "        ...,\n",
       "        [66.9191374 ,  1.06410883,  2.71903621],\n",
       "        [66.83692381,  0.69895828,  2.58957591],\n",
       "        [66.46150276,  0.69993387,  2.59255609]],\n",
       "\n",
       "       [[69.95858978, -0.57346654,  3.85382434],\n",
       "        [69.85312063, -1.11549419,  4.24314237],\n",
       "        [70.33014618, -0.57306794,  3.84964805],\n",
       "        ...,\n",
       "        [66.56999712,  1.24754424,  2.20223109],\n",
       "        [66.94528663,  1.24595524,  2.19968255],\n",
       "        [66.56999712,  1.24754424,  2.20223109]],\n",
       "\n",
       "       [[70.33014618, -0.57306794,  3.84964805],\n",
       "        [70.30482443, -0.75203135,  4.3643169 ],\n",
       "        [70.22478837, -1.11451868,  4.23854173],\n",
       "        ...,\n",
       "        [67.32015262,  1.24437803,  2.19715181],\n",
       "        [66.65274232,  1.61282348,  2.33259519],\n",
       "        [66.94528663,  1.24595524,  2.19968255]]])"
      ]
     },
     "execution_count": 68,
     "metadata": {},
     "output_type": "execute_result"
    }
   ],
   "source": [
    "from skimage import color\n",
    "color.rgb2lab(img)"
   ]
  },
  {
   "cell_type": "code",
   "execution_count": 86,
   "metadata": {},
   "outputs": [
    {
     "data": {
      "application/vnd.jupyter.widget-view+json": {
       "model_id": "7017973e95e94173871152b1450b2fb0",
       "version_major": 2,
       "version_minor": 0
      },
      "text/plain": [
       "interactive(children=(FloatSlider(value=1.0, description='gamma', max=2.0, step=0.01), IntSlider(value=0, desc…"
      ]
     },
     "metadata": {},
     "output_type": "display_data"
    }
   ],
   "source": [
    "def f(gamma, a, b):\n",
    "    plt.figure(2, figsize=(10, 10))\n",
    "    temp = color.rgb2lab(img)\n",
    "    temp[:,:,:] += [0, a, b]\n",
    "    temp[:,:,0] /= 100\n",
    "    temp[:,:,0] **= gamma\n",
    "    temp[:,:,0] *= 100\n",
    "    out_img = color.lab2rgb(temp)\n",
    "    plt.imshow(out_img)\n",
    "    plt.axis(\"off\")\n",
    "    plt.show()\n",
    "\n",
    "interactive_plot = interactive(f, gamma=(0, 2, 0.01), a=(-100, 100, 1), b=(-100, 100, 1))\n",
    "output = interactive_plot.children[-1]\n",
    "output.layout.height = '350px'\n",
    "interactive_plot"
   ]
  }
 ],
 "metadata": {
  "kernelspec": {
   "display_name": "Python 3.9.7 ('base')",
   "language": "python",
   "name": "python3"
  },
  "language_info": {
   "codemirror_mode": {
    "name": "ipython",
    "version": 3
   },
   "file_extension": ".py",
   "mimetype": "text/x-python",
   "name": "python",
   "nbconvert_exporter": "python",
   "pygments_lexer": "ipython3",
   "version": "3.9.7"
  },
  "orig_nbformat": 4,
  "vscode": {
   "interpreter": {
    "hash": "59bc8e2c397f0f3dd4c3f46a78ceb843605bec637a61d7dfe6aa303fd84548fe"
   }
  }
 },
 "nbformat": 4,
 "nbformat_minor": 2
}
